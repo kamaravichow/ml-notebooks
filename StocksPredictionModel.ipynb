{
  "nbformat": 4,
  "nbformat_minor": 0,
  "metadata": {
    "colab": {
      "name": "StocksPredictionModel.ipynb",
      "provenance": [],
      "collapsed_sections": []
    },
    "kernelspec": {
      "name": "python3",
      "display_name": "Python 3"
    }
  },
  "cells": [
    {
      "cell_type": "code",
      "metadata": {
        "id": "_IyjSh9c2t9X"
      },
      "source": [
        "import math\n",
        "import pandas_datareader as web\n",
        "import numpy as np\n",
        "import pandas as pd\n",
        "from sklearn.preprocessing import MinMaxScaler\n",
        "from keras.models import Sequential\n",
        "from keras.layers import Dense, LSTM\n",
        "import matplotlib.pyplot as plt\n",
        "\n",
        "plt.style.use(\"fivethirtyeight\")"
      ],
      "execution_count": null,
      "outputs": []
    },
    {
      "cell_type": "code",
      "metadata": {
        "id": "AUnXfv1n8AZV",
        "outputId": "eb47b4c2-78ff-46e8-dda5-b3653e7922c0",
        "colab": {
          "base_uri": "https://localhost:8080/",
          "height": 431
        }
      },
      "source": [
        "df = web.DataReader('GOOGL', data_source='yahoo' , start='2012-01-01', end='2020-10-01' )\n",
        "df"
      ],
      "execution_count": null,
      "outputs": [
        {
          "output_type": "execute_result",
          "data": {
            "text/html": [
              "<div>\n",
              "<style scoped>\n",
              "    .dataframe tbody tr th:only-of-type {\n",
              "        vertical-align: middle;\n",
              "    }\n",
              "\n",
              "    .dataframe tbody tr th {\n",
              "        vertical-align: top;\n",
              "    }\n",
              "\n",
              "    .dataframe thead th {\n",
              "        text-align: right;\n",
              "    }\n",
              "</style>\n",
              "<table border=\"1\" class=\"dataframe\">\n",
              "  <thead>\n",
              "    <tr style=\"text-align: right;\">\n",
              "      <th></th>\n",
              "      <th>High</th>\n",
              "      <th>Low</th>\n",
              "      <th>Open</th>\n",
              "      <th>Close</th>\n",
              "      <th>Volume</th>\n",
              "      <th>Adj Close</th>\n",
              "    </tr>\n",
              "    <tr>\n",
              "      <th>Date</th>\n",
              "      <th></th>\n",
              "      <th></th>\n",
              "      <th></th>\n",
              "      <th></th>\n",
              "      <th></th>\n",
              "      <th></th>\n",
              "    </tr>\n",
              "  </thead>\n",
              "  <tbody>\n",
              "    <tr>\n",
              "      <th>2012-01-03</th>\n",
              "      <td>334.409424</td>\n",
              "      <td>326.511505</td>\n",
              "      <td>326.796783</td>\n",
              "      <td>333.038025</td>\n",
              "      <td>7345600.0</td>\n",
              "      <td>333.038025</td>\n",
              "    </tr>\n",
              "    <tr>\n",
              "      <th>2012-01-04</th>\n",
              "      <td>335.460449</td>\n",
              "      <td>330.640656</td>\n",
              "      <td>332.847839</td>\n",
              "      <td>334.474487</td>\n",
              "      <td>5722200.0</td>\n",
              "      <td>334.474487</td>\n",
              "    </tr>\n",
              "    <tr>\n",
              "      <th>2012-01-05</th>\n",
              "      <td>332.317322</td>\n",
              "      <td>328.443451</td>\n",
              "      <td>331.396393</td>\n",
              "      <td>329.834839</td>\n",
              "      <td>6559200.0</td>\n",
              "      <td>329.834839</td>\n",
              "    </tr>\n",
              "    <tr>\n",
              "      <th>2012-01-06</th>\n",
              "      <td>330.330322</td>\n",
              "      <td>325.220215</td>\n",
              "      <td>329.904907</td>\n",
              "      <td>325.335327</td>\n",
              "      <td>5380400.0</td>\n",
              "      <td>325.335327</td>\n",
              "    </tr>\n",
              "    <tr>\n",
              "      <th>2012-01-09</th>\n",
              "      <td>323.823822</td>\n",
              "      <td>310.925934</td>\n",
              "      <td>323.573578</td>\n",
              "      <td>311.541534</td>\n",
              "      <td>11633500.0</td>\n",
              "      <td>311.541534</td>\n",
              "    </tr>\n",
              "    <tr>\n",
              "      <th>...</th>\n",
              "      <td>...</td>\n",
              "      <td>...</td>\n",
              "      <td>...</td>\n",
              "      <td>...</td>\n",
              "      <td>...</td>\n",
              "      <td>...</td>\n",
              "    </tr>\n",
              "    <tr>\n",
              "      <th>2020-09-25</th>\n",
              "      <td>1445.939941</td>\n",
              "      <td>1407.680054</td>\n",
              "      <td>1425.050049</td>\n",
              "      <td>1439.060059</td>\n",
              "      <td>1516300.0</td>\n",
              "      <td>1439.060059</td>\n",
              "    </tr>\n",
              "    <tr>\n",
              "      <th>2020-09-28</th>\n",
              "      <td>1472.989990</td>\n",
              "      <td>1446.280029</td>\n",
              "      <td>1471.989990</td>\n",
              "      <td>1458.660034</td>\n",
              "      <td>1539200.0</td>\n",
              "      <td>1458.660034</td>\n",
              "    </tr>\n",
              "    <tr>\n",
              "      <th>2020-09-29</th>\n",
              "      <td>1472.000000</td>\n",
              "      <td>1454.000000</td>\n",
              "      <td>1463.910034</td>\n",
              "      <td>1466.020020</td>\n",
              "      <td>1590800.0</td>\n",
              "      <td>1466.020020</td>\n",
              "    </tr>\n",
              "    <tr>\n",
              "      <th>2020-09-30</th>\n",
              "      <td>1486.199951</td>\n",
              "      <td>1455.760010</td>\n",
              "      <td>1460.939941</td>\n",
              "      <td>1465.599976</td>\n",
              "      <td>2045400.0</td>\n",
              "      <td>1465.599976</td>\n",
              "    </tr>\n",
              "    <tr>\n",
              "      <th>2020-10-01</th>\n",
              "      <td>1495.069946</td>\n",
              "      <td>1476.800049</td>\n",
              "      <td>1483.660034</td>\n",
              "      <td>1487.900024</td>\n",
              "      <td>1644200.0</td>\n",
              "      <td>1487.900024</td>\n",
              "    </tr>\n",
              "  </tbody>\n",
              "</table>\n",
              "<p>2202 rows × 6 columns</p>\n",
              "</div>"
            ],
            "text/plain": [
              "                   High          Low  ...      Volume    Adj Close\n",
              "Date                                  ...                         \n",
              "2012-01-03   334.409424   326.511505  ...   7345600.0   333.038025\n",
              "2012-01-04   335.460449   330.640656  ...   5722200.0   334.474487\n",
              "2012-01-05   332.317322   328.443451  ...   6559200.0   329.834839\n",
              "2012-01-06   330.330322   325.220215  ...   5380400.0   325.335327\n",
              "2012-01-09   323.823822   310.925934  ...  11633500.0   311.541534\n",
              "...                 ...          ...  ...         ...          ...\n",
              "2020-09-25  1445.939941  1407.680054  ...   1516300.0  1439.060059\n",
              "2020-09-28  1472.989990  1446.280029  ...   1539200.0  1458.660034\n",
              "2020-09-29  1472.000000  1454.000000  ...   1590800.0  1466.020020\n",
              "2020-09-30  1486.199951  1455.760010  ...   2045400.0  1465.599976\n",
              "2020-10-01  1495.069946  1476.800049  ...   1644200.0  1487.900024\n",
              "\n",
              "[2202 rows x 6 columns]"
            ]
          },
          "metadata": {
            "tags": []
          },
          "execution_count": 2
        }
      ]
    },
    {
      "cell_type": "code",
      "metadata": {
        "id": "FjTk4AIU86jn",
        "outputId": "2acbfb4b-44f7-489a-f0d5-4f57f946c7e9",
        "colab": {
          "base_uri": "https://localhost:8080/",
          "height": 34
        }
      },
      "source": [
        "df.shape"
      ],
      "execution_count": null,
      "outputs": [
        {
          "output_type": "execute_result",
          "data": {
            "text/plain": [
              "(2202, 6)"
            ]
          },
          "metadata": {
            "tags": []
          },
          "execution_count": 3
        }
      ]
    },
    {
      "cell_type": "code",
      "metadata": {
        "id": "T8T_8LHt9HWF",
        "outputId": "08af36ec-19ef-412c-ac98-021a54ed9969",
        "colab": {
          "base_uri": "https://localhost:8080/",
          "height": 518
        }
      },
      "source": [
        "plt.figure(figsize=(16,8))\n",
        "plt.title('Closing Price Graph')\n",
        "plt.plot(df['Close'])\n",
        "plt.xlabel('Date', fontsize=18)\n",
        "plt.ylabel('Close Price', fontsize=18)\n",
        "plt.show()"
      ],
      "execution_count": null,
      "outputs": [
        {
          "output_type": "display_data",
          "data": {
            "image/png": "[encoded data removed]",
            "text/plain": [
              "<Figure size 1152x576 with 1 Axes>"
            ]
          },
          "metadata": {
            "tags": [],
            "needs_background": "light"
          }
        }
      ]
    },
    {
      "cell_type": "code",
      "metadata": {
        "id": "b5e1-ME_-zO7",
        "outputId": "94fdda87-62a0-455a-84c4-7f505c6fbed4",
        "colab": {
          "base_uri": "https://localhost:8080/",
          "height": 34
        }
      },
      "source": [
        "# get only close column\n",
        "data = df.filter(['Close'])\n",
        "# convert to numpy array\n",
        "dataset = data.values\n",
        "\n",
        "# Segrigate Training data\n",
        "training_data_len = math.ceil( len(dataset) * .8 ) # 80 percent of data is used for training\n",
        "\n",
        "training_data_len"
      ],
      "execution_count": null,
      "outputs": [
        {
          "output_type": "execute_result",
          "data": {
            "text/plain": [
              "1762"
            ]
          },
          "metadata": {
            "tags": []
          },
          "execution_count": 5
        }
      ]
    },
    {
      "cell_type": "code",
      "metadata": {
        "id": "7eIGbHm6_3w4",
        "outputId": "95de3b32-3a81-4824-d3dd-7f57a2d408ac",
        "colab": {
          "base_uri": "https://localhost:8080/",
          "height": 134
        }
      },
      "source": [
        "# scaling data\n",
        "scaler = MinMaxScaler(feature_range=(0,1))\n",
        "\n",
        "scaled_data =  scaler.fit_transform(dataset)\n",
        "\n",
        "scaled_data"
      ],
      "execution_count": null,
      "outputs": [
        {
          "output_type": "execute_result",
          "data": {
            "text/plain": [
              "array([[0.03702961],\n",
              "       [0.03802883],\n",
              "       [0.03480144],\n",
              "       ...,\n",
              "       [0.82514428],\n",
              "       [0.82485209],\n",
              "       [0.84036425]])"
            ]
          },
          "metadata": {
            "tags": []
          },
          "execution_count": 6
        }
      ]
    },
    {
      "cell_type": "code",
      "metadata": {
        "id": "HQP0fUf5A1xE",
        "outputId": "5ad286ce-34ef-41c8-af8e-c243f74843f3",
        "colab": {
          "base_uri": "https://localhost:8080/",
          "height": 252
        }
      },
      "source": [
        "# creating the training dataset\n",
        "train_data = scaled_data[0:training_data_len, :]\n",
        "\n",
        "# split the data into x_train and y_train\n",
        "x_train = []\n",
        "y_train = []\n",
        "\n",
        "for i in range(60, len(train_data)):\n",
        "  x_train.append( train_data[i-60:i, 0] )\n",
        "  y_train.append( train_data[i, 0])\n",
        "  if i<=60:\n",
        "    print(x_train)\n",
        "    print(y_train)\n",
        "    print()"
      ],
      "execution_count": null,
      "outputs": [
        {
          "output_type": "stream",
          "text": [
            "[array([0.03702961, 0.03802883, 0.03480144, 0.03167153, 0.02207641,\n",
            "       0.02231317, 0.02329496, 0.02457616, 0.02295724, 0.02420712,\n",
            "       0.02571461, 0.02803332, 0.00937926, 0.00921561, 0.00761761,\n",
            "       0.00363472, 0.00315078, 0.00728685, 0.00648957, 0.00733211,\n",
            "       0.00758279, 0.00907287, 0.01297917, 0.01742161, 0.01661389,\n",
            "       0.0176862 , 0.01824673, 0.01631448, 0.01850436, 0.01765486,\n",
            "       0.01619261, 0.01652685, 0.01587232, 0.01913104, 0.01702122,\n",
            "       0.01638411, 0.0177036 , 0.0174982 , 0.02065944, 0.0206107 ,\n",
            "       0.02205552, 0.02165516, 0.01921808, 0.01598372, 0.01662433,\n",
            "       0.0167427 , 0.01434392, 0.01604987, 0.02044705, 0.01982387,\n",
            "       0.02161338, 0.02297465, 0.02608715, 0.02591656, 0.02817606,\n",
            "       0.03028937, 0.02908474, 0.03143131, 0.03062707, 0.03366994])]\n",
            "[0.031111012611514693]\n",
            "\n"
          ],
          "name": "stdout"
        }
      ]
    },
    {
      "cell_type": "code",
      "metadata": {
        "id": "K4912HhEDMBb"
      },
      "source": [
        "# convert the x_train and y_train to numpy arr\n",
        "x_train, y_train = np.array(x_train), np.array(y_train)"
      ],
      "execution_count": null,
      "outputs": []
    },
    {
      "cell_type": "code",
      "metadata": {
        "id": "wWahrbN1DjLF",
        "outputId": "37cd70dc-41f0-4f22-a985-edf3b5a68a0d",
        "colab": {
          "base_uri": "https://localhost:8080/",
          "height": 34
        }
      },
      "source": [
        "# Reshape the data\n",
        "x_train = np.reshape(x_train, (x_train.shape[0],x_train.shape[1] , 1))\n",
        "x_train.shape"
      ],
      "execution_count": null,
      "outputs": [
        {
          "output_type": "execute_result",
          "data": {
            "text/plain": [
              "(1702, 60, 1)"
            ]
          },
          "metadata": {
            "tags": []
          },
          "execution_count": 9
        }
      ]
    },
    {
      "cell_type": "markdown",
      "metadata": {
        "id": "g8h3zSfiECEQ"
      },
      "source": [
        "Here you go we got the 3D shape for our array"
      ]
    },
    {
      "cell_type": "code",
      "metadata": {
        "id": "3h2ZN81qEGXH"
      },
      "source": [
        "# Build LSTM model\n",
        "model = Sequential()\n",
        "model.add(LSTM(50, return_sequences=True, input_shape=(x_train.shape[1], 1) ))\n",
        "model.add(LSTM(50, return_sequences=False))\n",
        "model.add(Dense(25))\n",
        "model.add(Dense(1))"
      ],
      "execution_count": null,
      "outputs": []
    },
    {
      "cell_type": "code",
      "metadata": {
        "id": "fUh6aiiZEzUI"
      },
      "source": [
        "model.compile(optimizer='adam', loss='mean_squared_error')"
      ],
      "execution_count": null,
      "outputs": []
    },
    {
      "cell_type": "code",
      "metadata": {
        "id": "R_OyEpQ5E-BE",
        "outputId": "6a9f0cac-4b6a-4cf5-b17a-407a63551120",
        "colab": {
          "base_uri": "https://localhost:8080/",
          "height": 370
        }
      },
      "source": [
        "#Train\n",
        "model.fit(x_train, y_train, batch_size=1, epochs=10)"
      ],
      "execution_count": null,
      "outputs": [
        {
          "output_type": "stream",
          "text": [
            "Epoch 1/10\n",
            "1702/1702 [==============================] - 36s 21ms/step - loss: 9.6054e-04\n",
            "Epoch 2/10\n",
            "1702/1702 [==============================] - 35s 20ms/step - loss: 4.0828e-04\n",
            "Epoch 3/10\n",
            "1702/1702 [==============================] - 35s 21ms/step - loss: 3.1034e-04\n",
            "Epoch 4/10\n",
            "1702/1702 [==============================] - 36s 21ms/step - loss: 2.5382e-04\n",
            "Epoch 5/10\n",
            "1702/1702 [==============================] - 35s 21ms/step - loss: 1.9740e-04\n",
            "Epoch 6/10\n",
            "1702/1702 [==============================] - 35s 21ms/step - loss: 1.5875e-04\n",
            "Epoch 7/10\n",
            "1702/1702 [==============================] - 35s 21ms/step - loss: 1.7016e-04\n",
            "Epoch 8/10\n",
            "1702/1702 [==============================] - 35s 20ms/step - loss: 1.5084e-04\n",
            "Epoch 9/10\n",
            "1702/1702 [==============================] - 34s 20ms/step - loss: 1.6361e-04\n",
            "Epoch 10/10\n",
            "1702/1702 [==============================] - 35s 21ms/step - loss: 1.3332e-04\n"
          ],
          "name": "stdout"
        },
        {
          "output_type": "execute_result",
          "data": {
            "text/plain": [
              "<tensorflow.python.keras.callbacks.History at 0x7f4c36854208>"
            ]
          },
          "metadata": {
            "tags": []
          },
          "execution_count": 12
        }
      ]
    },
    {
      "cell_type": "code",
      "metadata": {
        "id": "YhNhsDZgFU6M"
      },
      "source": [
        "# create test dataset\n",
        "test_data = scaled_data[training_data_len - 60: ,  :]\n",
        "x_test = []\n",
        "y_test = dataset[training_data_len:, :]\n",
        "for i in range(60, len(test_data)):\n",
        "  x_test.append(test_data[i-60:i, 0])\n"
      ],
      "execution_count": null,
      "outputs": []
    },
    {
      "cell_type": "code",
      "metadata": {
        "id": "_Fq3c5FZGFuf"
      },
      "source": [
        "x_test = np.array(x_test)"
      ],
      "execution_count": null,
      "outputs": []
    },
    {
      "cell_type": "code",
      "metadata": {
        "id": "FGhs3ozkGOUF"
      },
      "source": [
        "#Reshape Data\n",
        "x_test = np.reshape(x_test, (x_test.shape[0], x_test.shape[1], 1 ))"
      ],
      "execution_count": null,
      "outputs": []
    },
    {
      "cell_type": "code",
      "metadata": {
        "id": "ushK9oGEGgcC"
      },
      "source": [
        "# get the model's predicted values\n",
        "predictions = model.predict(x_test)\n",
        "predictions = scaler.inverse_transform(predictions)\n"
      ],
      "execution_count": null,
      "outputs": []
    },
    {
      "cell_type": "code",
      "metadata": {
        "id": "dHGkHayEHBUi",
        "outputId": "30054a27-d7f3-452b-e8b9-49c187cb48d1",
        "colab": {
          "base_uri": "https://localhost:8080/",
          "height": 34
        }
      },
      "source": [
        "# root mean squared error RMSE\n",
        "rmse = np.sqrt( np.mean( predictions - y_test) **2 )\n",
        "rmse"
      ],
      "execution_count": null,
      "outputs": [
        {
          "output_type": "execute_result",
          "data": {
            "text/plain": [
              "15.869787458939985"
            ]
          },
          "metadata": {
            "tags": []
          },
          "execution_count": 17
        }
      ]
    },
    {
      "cell_type": "markdown",
      "metadata": {
        "id": "X0ZgqzmCHfM_"
      },
      "source": [
        "Near to zero is more accurate"
      ]
    },
    {
      "cell_type": "code",
      "metadata": {
        "id": "8TuIvnUlHiR2",
        "outputId": "229990a5-c88f-4bd7-ba57-9e803b145328",
        "colab": {
          "base_uri": "https://localhost:8080/",
          "height": 619
        }
      },
      "source": [
        "# plot the data\n",
        "train = data[:training_data_len]\n",
        "valid = data[training_data_len:]\n",
        "valid['Predictions'] = predictions\n",
        "\n",
        "plt.figure(figsize=(16,8))\n",
        "plt.title('Model Accuracy')\n",
        "plt.xlabel('Date', fontsize=18)\n",
        "plt.ylabel('Close Price', fontsize=18)\n",
        "plt.plot(train['Close'])\n",
        "plt.plot(valid[['Close', 'Predictions']])\n",
        "plt.legend(['Train', 'Val', 'Predictions'], loc='lower right')\n",
        "plt.show()"
      ],
      "execution_count": null,
      "outputs": [
        {
          "output_type": "stream",
          "text": [
            "/usr/local/lib/python3.6/dist-packages/ipykernel_launcher.py:4: SettingWithCopyWarning: \n",
            "A value is trying to be set on a copy of a slice from a DataFrame.\n",
            "Try using .loc[row_indexer,col_indexer] = value instead\n",
            "\n",
            "See the caveats in the documentation: https://pandas.pydata.org/pandas-docs/stable/user_guide/indexing.html#returning-a-view-versus-a-copy\n",
            "  after removing the cwd from sys.path.\n"
          ],
          "name": "stderr"
        },
        {
          "output_type": "display_data",
          "data": {
            "image/png": "[encoded data removed]",
            "text/plain": [
              "<Figure size 1152x576 with 1 Axes>"
            ]
          },
          "metadata": {
            "tags": [],
            "needs_background": "light"
          }
        }
      ]
    },
    {
      "cell_type": "code",
      "metadata": {
        "id": "L-_oOrA_JP85",
        "outputId": "82b246ea-4369-4712-8c16-c1fa2ec6c36e",
        "colab": {
          "base_uri": "https://localhost:8080/",
          "height": 431
        }
      },
      "source": [
        "# show the valid and predictions\n",
        "valid"
      ],
      "execution_count": null,
      "outputs": [
        {
          "output_type": "execute_result",
          "data": {
            "text/html": [
              "<div>\n",
              "<style scoped>\n",
              "    .dataframe tbody tr th:only-of-type {\n",
              "        vertical-align: middle;\n",
              "    }\n",
              "\n",
              "    .dataframe tbody tr th {\n",
              "        vertical-align: top;\n",
              "    }\n",
              "\n",
              "    .dataframe thead th {\n",
              "        text-align: right;\n",
              "    }\n",
              "</style>\n",
              "<table border=\"1\" class=\"dataframe\">\n",
              "  <thead>\n",
              "    <tr style=\"text-align: right;\">\n",
              "      <th></th>\n",
              "      <th>Close</th>\n",
              "      <th>Predictions</th>\n",
              "    </tr>\n",
              "    <tr>\n",
              "      <th>Date</th>\n",
              "      <th></th>\n",
              "      <th></th>\n",
              "    </tr>\n",
              "  </thead>\n",
              "  <tbody>\n",
              "    <tr>\n",
              "      <th>2019-01-04</th>\n",
              "      <td>1078.069946</td>\n",
              "      <td>1021.982361</td>\n",
              "    </tr>\n",
              "    <tr>\n",
              "      <th>2019-01-07</th>\n",
              "      <td>1075.920044</td>\n",
              "      <td>1082.301758</td>\n",
              "    </tr>\n",
              "    <tr>\n",
              "      <th>2019-01-08</th>\n",
              "      <td>1085.369995</td>\n",
              "      <td>1069.852783</td>\n",
              "    </tr>\n",
              "    <tr>\n",
              "      <th>2019-01-09</th>\n",
              "      <td>1081.650024</td>\n",
              "      <td>1086.995361</td>\n",
              "    </tr>\n",
              "    <tr>\n",
              "      <th>2019-01-10</th>\n",
              "      <td>1078.829956</td>\n",
              "      <td>1077.947754</td>\n",
              "    </tr>\n",
              "    <tr>\n",
              "      <th>...</th>\n",
              "      <td>...</td>\n",
              "      <td>...</td>\n",
              "    </tr>\n",
              "    <tr>\n",
              "      <th>2020-09-25</th>\n",
              "      <td>1439.060059</td>\n",
              "      <td>1407.000854</td>\n",
              "    </tr>\n",
              "    <tr>\n",
              "      <th>2020-09-28</th>\n",
              "      <td>1458.660034</td>\n",
              "      <td>1413.537598</td>\n",
              "    </tr>\n",
              "    <tr>\n",
              "      <th>2020-09-29</th>\n",
              "      <td>1466.020020</td>\n",
              "      <td>1436.935303</td>\n",
              "    </tr>\n",
              "    <tr>\n",
              "      <th>2020-09-30</th>\n",
              "      <td>1465.599976</td>\n",
              "      <td>1439.734009</td>\n",
              "    </tr>\n",
              "    <tr>\n",
              "      <th>2020-10-01</th>\n",
              "      <td>1487.900024</td>\n",
              "      <td>1439.198486</td>\n",
              "    </tr>\n",
              "  </tbody>\n",
              "</table>\n",
              "<p>440 rows × 2 columns</p>\n",
              "</div>"
            ],
            "text/plain": [
              "                  Close  Predictions\n",
              "Date                                \n",
              "2019-01-04  1078.069946  1021.982361\n",
              "2019-01-07  1075.920044  1082.301758\n",
              "2019-01-08  1085.369995  1069.852783\n",
              "2019-01-09  1081.650024  1086.995361\n",
              "2019-01-10  1078.829956  1077.947754\n",
              "...                 ...          ...\n",
              "2020-09-25  1439.060059  1407.000854\n",
              "2020-09-28  1458.660034  1413.537598\n",
              "2020-09-29  1466.020020  1436.935303\n",
              "2020-09-30  1465.599976  1439.734009\n",
              "2020-10-01  1487.900024  1439.198486\n",
              "\n",
              "[440 rows x 2 columns]"
            ]
          },
          "metadata": {
            "tags": []
          },
          "execution_count": 19
        }
      ]
    },
    {
      "cell_type": "code",
      "metadata": {
        "id": "ggK4Pm6wJgCJ",
        "outputId": "33820e35-3a4e-4043-c8c9-dc51fc841aae",
        "colab": {
          "base_uri": "https://localhost:8080/",
          "height": 34
        }
      },
      "source": [
        "# Trying with future prices\n",
        "apple_quote = web.DataReader('GOOGL', data_source='yahoo', start='2012-01-01', end='2020-08-20')\n",
        "\n",
        "new_df = apple_quote.filter(['Close'])\n",
        "\n",
        "# Last 60 days\n",
        "\n",
        "last_60_days = new_df[-60:].values\n",
        "#Scale data to 0 to 1\n",
        "\n",
        "last_60_days_scaled = scaler.transform(last_60_days)\n",
        "\n",
        "X_test =[]\n",
        "\n",
        "X_test.append(last_60_days_scaled)\n",
        "\n",
        "X_test = np.array(X_test)\n",
        "\n",
        "X_test = np.reshape(X_test, (X_test.shape[0], X_test.shape[1], 1))\n",
        "\n",
        "pred_price = model.predict(X_test)\n",
        "\n",
        "pred_price = scaler.inverse_transform(pred_price)\n",
        "\n",
        "print(pred_price)"
      ],
      "execution_count": null,
      "outputs": [
        {
          "output_type": "stream",
          "text": [
            "[[1543.0382]]\n"
          ],
          "name": "stdout"
        }
      ]
    },
    {
      "cell_type": "code",
      "metadata": {
        "id": "H39j6ecMLNh7",
        "outputId": "2cccdb9b-53a1-44cc-d4dd-84ff75969725",
        "colab": {
          "base_uri": "https://localhost:8080/",
          "height": 202
        }
      },
      "source": [
        "apple_quote2 = web.DataReader('GOOGL', data_source='yahoo', start='2020-08-10', end='2020-08-20')\n",
        "print(apple_quote2['Close'])"
      ],
      "execution_count": null,
      "outputs": [
        {
          "output_type": "stream",
          "text": [
            "Date\n",
            "2020-08-10    1496.819946\n",
            "2020-08-11    1480.540039\n",
            "2020-08-12    1507.239990\n",
            "2020-08-13    1516.650024\n",
            "2020-08-14    1504.630005\n",
            "2020-08-17    1516.239990\n",
            "2020-08-18    1555.780029\n",
            "2020-08-19    1544.609985\n",
            "2020-08-20    1576.250000\n",
            "Name: Close, dtype: float64\n"
          ],
          "name": "stdout"
        }
      ]
    }
  ]
}